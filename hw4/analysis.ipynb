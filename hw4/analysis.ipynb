{
 "cells": [
  {
   "cell_type": "code",
   "execution_count": 1,
   "metadata": {},
   "outputs": [],
   "source": [
    "from diabetes_analysis_lib.data_processing import load_data, clean_data, split_data\n",
    "from diabetes_analysis_lib.model_training import make_predictions\n",
    "from diabetes_analysis_lib.evaluation import evaluate_model\n",
    "\n"
   ]
  },
  {
   "cell_type": "code",
   "execution_count": 2,
   "metadata": {},
   "outputs": [
    {
     "name": "stderr",
     "output_type": "stream",
     "text": [
      "/Users/hannes/Documents/BSE/Computing/diabetes_analysis_lib/diabetes_analysis_lib/data_processing.py:22: FutureWarning: A value is trying to be set on a copy of a DataFrame or Series through chained assignment using an inplace method.\n",
      "The behavior will change in pandas 3.0. This inplace method will never work because the intermediate object on which we are setting values always behaves as a copy.\n",
      "\n",
      "For example, when doing 'df[col].method(value, inplace=True)', try using 'df.method({col: value}, inplace=True)' or df[col] = df[col].method(value) instead, to perform the operation inplace on the original object.\n",
      "\n",
      "\n",
      "  data['height'].fillna(data['height'].mean(), inplace=True)\n",
      "/Users/hannes/Documents/BSE/Computing/diabetes_analysis_lib/diabetes_analysis_lib/data_processing.py:23: FutureWarning: A value is trying to be set on a copy of a DataFrame or Series through chained assignment using an inplace method.\n",
      "The behavior will change in pandas 3.0. This inplace method will never work because the intermediate object on which we are setting values always behaves as a copy.\n",
      "\n",
      "For example, when doing 'df[col].method(value, inplace=True)', try using 'df.method({col: value}, inplace=True)' or df[col] = df[col].method(value) instead, to perform the operation inplace on the original object.\n",
      "\n",
      "\n",
      "  data['weight'].fillna(data['weight'].mean(), inplace=True)\n",
      "/Users/hannes/Documents/BSE/Computing/diabetes_analysis_lib/diabetes_analysis_lib/data_processing.py:22: FutureWarning: A value is trying to be set on a copy of a DataFrame or Series through chained assignment using an inplace method.\n",
      "The behavior will change in pandas 3.0. This inplace method will never work because the intermediate object on which we are setting values always behaves as a copy.\n",
      "\n",
      "For example, when doing 'df[col].method(value, inplace=True)', try using 'df.method({col: value}, inplace=True)' or df[col] = df[col].method(value) instead, to perform the operation inplace on the original object.\n",
      "\n",
      "\n",
      "  data['height'].fillna(data['height'].mean(), inplace=True)\n",
      "/Users/hannes/Documents/BSE/Computing/diabetes_analysis_lib/diabetes_analysis_lib/data_processing.py:23: FutureWarning: A value is trying to be set on a copy of a DataFrame or Series through chained assignment using an inplace method.\n",
      "The behavior will change in pandas 3.0. This inplace method will never work because the intermediate object on which we are setting values always behaves as a copy.\n",
      "\n",
      "For example, when doing 'df[col].method(value, inplace=True)', try using 'df.method({col: value}, inplace=True)' or df[col] = df[col].method(value) instead, to perform the operation inplace on the original object.\n",
      "\n",
      "\n",
      "  data['weight'].fillna(data['weight'].mean(), inplace=True)\n"
     ]
    }
   ],
   "source": [
    "# data setup\n",
    "## loadin data \n",
    "df = load_data('sample_diabetes_mellitus_data.csv')\n",
    "\n",
    "## splitting data with train_size = 0.2 and random_state = 42\n",
    "train_data, test_data = split_data(df)\n",
    "\n",
    "# preprocessing both data sets\n",
    "clean_train = clean_data(train_data)\n",
    "clean_test = clean_data(test_data)\n",
    "\n",
    "\n"
   ]
  },
  {
   "cell_type": "code",
   "execution_count": 3,
   "metadata": {},
   "outputs": [
    {
     "name": "stderr",
     "output_type": "stream",
     "text": [
      "/opt/anaconda3/envs/BSE/lib/python3.13/site-packages/sklearn/linear_model/_logistic.py:469: ConvergenceWarning: lbfgs failed to converge (status=1):\n",
      "STOP: TOTAL NO. of ITERATIONS REACHED LIMIT.\n",
      "\n",
      "Increase the number of iterations (max_iter) or scale the data as shown in:\n",
      "    https://scikit-learn.org/stable/modules/preprocessing.html\n",
      "Please also refer to the documentation for alternative solver options:\n",
      "    https://scikit-learn.org/stable/modules/linear_model.html#logistic-regression\n",
      "  n_iter_i = _check_optimize_result(\n",
      "/opt/anaconda3/envs/BSE/lib/python3.13/site-packages/sklearn/linear_model/_logistic.py:469: ConvergenceWarning: lbfgs failed to converge (status=1):\n",
      "STOP: TOTAL NO. of ITERATIONS REACHED LIMIT.\n",
      "\n",
      "Increase the number of iterations (max_iter) or scale the data as shown in:\n",
      "    https://scikit-learn.org/stable/modules/preprocessing.html\n",
      "Please also refer to the documentation for alternative solver options:\n",
      "    https://scikit-learn.org/stable/modules/linear_model.html#logistic-regression\n",
      "  n_iter_i = _check_optimize_result(\n"
     ]
    }
   ],
   "source": [
    "# training model with target diabetes_mellitus based on the given features\n",
    "features = ['age', 'height', 'weight', 'aids', 'cirrhosis', 'hepatic_failure', 'immunosuppression', 'leukemia', 'lymphoma', 'solid_tumor_with_metastasis']\n",
    "target = 'diabetes_mellitus'\n",
    "\n",
    "# call make_predictions function to train logistic regression model in order to predict liklihood of target based on selected features\n",
    "# predictions will be added in column 'predictions' of the data set\n",
    "\n",
    "# training data\n",
    "clean_train = make_predictions(clean_train, features, target)\n",
    "\n",
    "# test data\n",
    "clean_test = make_predictions(clean_test, features, target)\n"
   ]
  },
  {
   "cell_type": "code",
   "execution_count": 4,
   "metadata": {},
   "outputs": [
    {
     "name": "stdout",
     "output_type": "stream",
     "text": [
      "Train ROC AUC: 0.6749290218266188\n",
      "Test ROC AUC: 0.6554968331172532\n"
     ]
    }
   ],
   "source": [
    "# evaluate model based on roc auc scores\n",
    "evaluate_model(clean_train, clean_test) \n"
   ]
  }
 ],
 "metadata": {
  "kernelspec": {
   "display_name": "BSE",
   "language": "python",
   "name": "python3"
  },
  "language_info": {
   "codemirror_mode": {
    "name": "ipython",
    "version": 3
   },
   "file_extension": ".py",
   "mimetype": "text/x-python",
   "name": "python",
   "nbconvert_exporter": "python",
   "pygments_lexer": "ipython3",
   "version": "3.13.0"
  }
 },
 "nbformat": 4,
 "nbformat_minor": 2
}
