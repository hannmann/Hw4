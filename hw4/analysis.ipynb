{
 "cells": [
  {
   "cell_type": "code",
   "execution_count": 20,
   "metadata": {},
   "outputs": [],
   "source": [
    "from diabetes_analysis_lib.data_processing import load_data, clean_data, split_data\n",
    "from diabetes_analysis_lib.model_training import make_predictions\n",
    "from diabetes_analysis_lib.evaluation import evaluate_model\n",
    "\n"
   ]
  },
  {
   "cell_type": "code",
   "execution_count": 22,
   "metadata": {},
   "outputs": [
    {
     "ename": "TypeError",
     "evalue": "'DataFrame' object is not callable",
     "output_type": "error",
     "traceback": [
      "\u001b[0;31m---------------------------------------------------------------------------\u001b[0m",
      "\u001b[0;31mTypeError\u001b[0m                                 Traceback (most recent call last)",
      "Cell \u001b[0;32mIn[22], line 9\u001b[0m\n\u001b[1;32m      6\u001b[0m train_data, test_data \u001b[38;5;241m=\u001b[39m split_data(df)\n\u001b[1;32m      8\u001b[0m \u001b[38;5;66;03m# preprocessing both data sets\u001b[39;00m\n\u001b[0;32m----> 9\u001b[0m clean_train \u001b[38;5;241m=\u001b[39m \u001b[43mclean_data\u001b[49m\u001b[43m(\u001b[49m\u001b[43mtrain_data\u001b[49m\u001b[43m)\u001b[49m\n\u001b[1;32m     10\u001b[0m clean_data \u001b[38;5;241m=\u001b[39m clean_data(test_data)\n",
      "\u001b[0;31mTypeError\u001b[0m: 'DataFrame' object is not callable"
     ]
    }
   ],
   "source": [
    "# data setup\n",
    "## loading data \n",
    "df = load_data('sample_diabetes_mellitus_data.csv')\n",
    "\n",
    "## splitting data with train_size = 0.2 and random_state = 42\n",
    "train_data, test_data = split_data(df)\n",
    "\n",
    "# preprocessing both data sets\n",
    "clean_train = clean_data(train_data)\n",
    "clean_test = clean_data(test_data)\n",
    "\n",
    "\n"
   ]
  },
  {
   "cell_type": "code",
   "execution_count": 15,
   "metadata": {},
   "outputs": [
    {
     "name": "stderr",
     "output_type": "stream",
     "text": [
      "/opt/anaconda3/envs/BSE/lib/python3.13/site-packages/sklearn/linear_model/_logistic.py:469: ConvergenceWarning: lbfgs failed to converge (status=1):\n",
      "STOP: TOTAL NO. of ITERATIONS REACHED LIMIT.\n",
      "\n",
      "Increase the number of iterations (max_iter) or scale the data as shown in:\n",
      "    https://scikit-learn.org/stable/modules/preprocessing.html\n",
      "Please also refer to the documentation for alternative solver options:\n",
      "    https://scikit-learn.org/stable/modules/linear_model.html#logistic-regression\n",
      "  n_iter_i = _check_optimize_result(\n",
      "/opt/anaconda3/envs/BSE/lib/python3.13/site-packages/sklearn/linear_model/_logistic.py:469: ConvergenceWarning: lbfgs failed to converge (status=1):\n",
      "STOP: TOTAL NO. of ITERATIONS REACHED LIMIT.\n",
      "\n",
      "Increase the number of iterations (max_iter) or scale the data as shown in:\n",
      "    https://scikit-learn.org/stable/modules/preprocessing.html\n",
      "Please also refer to the documentation for alternative solver options:\n",
      "    https://scikit-learn.org/stable/modules/linear_model.html#logistic-regression\n",
      "  n_iter_i = _check_optimize_result(\n"
     ]
    }
   ],
   "source": [
    "# training model with target diabetes_mellitus based on the given features\n",
    "features = ['age', 'height', 'weight', 'aids', 'cirrhosis', 'hepatic_failure', 'immunosuppression', 'leukemia', 'lymphoma', 'solid_tumor_with_metastasis']\n",
    "target = 'diabetes_mellitus'\n",
    "\n",
    "# call make_predictions function to train logistic regression model in order to predict liklihood of target based on selected features\n",
    "# predictions will be added in column 'predictions' of the data set\n",
    "\n",
    "# training data\n",
    "clean_train = make_predictions(clean_train, features, target)\n",
    "\n",
    "# test data\n",
    "clean_test = make_predictions(clean_test, features, target)\n"
   ]
  },
  {
   "cell_type": "code",
   "execution_count": 16,
   "metadata": {},
   "outputs": [
    {
     "name": "stdout",
     "output_type": "stream",
     "text": [
      "Train ROC AUC: 0.6749290218266188\n",
      "Test ROC AUC: 0.6554968331172532\n"
     ]
    }
   ],
   "source": [
    "# evaluate model based on roc auc scores\n",
    "evaluate_model(clean_train, clean_test) \n"
   ]
  }
 ],
 "metadata": {
  "kernelspec": {
   "display_name": "BSE",
   "language": "python",
   "name": "python3"
  },
  "language_info": {
   "codemirror_mode": {
    "name": "ipython",
    "version": 3
   },
   "file_extension": ".py",
   "mimetype": "text/x-python",
   "name": "python",
   "nbconvert_exporter": "python",
   "pygments_lexer": "ipython3",
   "version": "3.13.0"
  }
 },
 "nbformat": 4,
 "nbformat_minor": 2
}
